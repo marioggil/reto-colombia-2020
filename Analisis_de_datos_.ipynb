{
  "nbformat": 4,
  "nbformat_minor": 0,
  "metadata": {
    "colab": {
      "name": "Analisis de datos.ipynb",
      "provenance": [],
      "collapsed_sections": [],
      "toc_visible": true
    },
    "kernelspec": {
      "display_name": "Python 3.6.9 64-bit ('RetoBavaria')",
      "name": "python3"
    },
    "language_info": {
      "codemirror_mode": {
        "name": "ipython",
        "version": 3
      },
      "file_extension": ".py",
      "mimetype": "text/x-python",
      "name": "python",
      "nbconvert_exporter": "python",
      "pygments_lexer": "ipython3",
      "version": "3.6.9-final"
    }
  },
  "cells": [
    {
      "cell_type": "code",
      "metadata": {
        "id": "wE8ItXEV8vhW"
      },
      "source": [
        "import pandas as pd\n",
        "from sklearn.preprocessing import OneHotEncoder\n",
        "import numpy as np\n"
      ],
      "execution_count": 185,
      "outputs": []
    },
    {
      "cell_type": "markdown",
      "metadata": {
        "id": "ZLAKaM_08vhX"
      },
      "source": [
        "# Carga de datos"
      ]
    },
    {
      "cell_type": "code",
      "metadata": {
        "colab": {
          "base_uri": "https://localhost:8080/"
        },
        "id": "o3InZZvSKoyp",
        "outputId": "e6bf2772-eff5-468e-cff7-712609d396b5"
      },
      "source": [
        "from google.colab import drive\n",
        "drive.mount('/content/drive')"
      ],
      "execution_count": 186,
      "outputs": [
        {
          "output_type": "stream",
          "text": [
            "Drive already mounted at /content/drive; to attempt to forcibly remount, call drive.mount(\"/content/drive\", force_remount=True).\n"
          ],
          "name": "stdout"
        }
      ]
    },
    {
      "cell_type": "code",
      "metadata": {
        "colab": {
          "base_uri": "https://localhost:8080/"
        },
        "id": "MeOihorVLEZM",
        "outputId": "42bd654f-74e4-4608-a67f-5cca1a50308b"
      },
      "source": [
        "%cd drive/MyDrive/RetoColombia\n"
      ],
      "execution_count": 187,
      "outputs": [
        {
          "output_type": "stream",
          "text": [
            "[Errno 2] No such file or directory: 'drive/MyDrive/RetoColombia'\n",
            "/content/drive/MyDrive/RetoColombia\n"
          ],
          "name": "stdout"
        }
      ]
    },
    {
      "cell_type": "code",
      "metadata": {
        "colab": {
          "base_uri": "https://localhost:8080/"
        },
        "id": "3fr8O3CINrE1",
        "outputId": "433cccf4-7e1c-4722-fdce-52c1912634e4"
      },
      "source": [
        "%ls"
      ],
      "execution_count": 188,
      "outputs": [
        {
          "output_type": "stream",
          "text": [
            " 0_0_SalidaFus.csv   3_1_SalidaFus.csv\n",
            " 0_1_SalidaFus.csv   3_2_SalidaFus.csv\n",
            " 0_2_SalidaFus.csv   3_3_SalidaFus.csv\n",
            " 0_3_SalidaFus.csv  'Copia de DataSui_ele_com_096.csv'\n",
            " 1_0_SalidaFus.csv   Input1_clientes_estructura.csv\n",
            " 1_1_SalidaFus.csv   Input2_clientes_venta.csv\n",
            " 1_2_SalidaFus.csv   Input3_clientes_test.csv\n",
            " 1_3_SalidaFus.csv   Input.zip\n",
            " 2_0_SalidaFus.csv   Salida\n",
            " 2_1_SalidaFus.csv   Salida.csv\n",
            " 2_2_SalidaFus.csv   SalidaFus.csv\n",
            " 2_3_SalidaFus.csv   SalidaVol2.csv\n",
            " 3_0_SalidaFus.csv   SalidaVol.csv\n"
          ],
          "name": "stdout"
        }
      ]
    },
    {
      "cell_type": "code",
      "metadata": {
        "id": "F0Q2E7VC8vhX"
      },
      "source": [
        "\n",
        "ClientesEstructura=pd.read_csv('Input1_clientes_estructura.csv',sep=';')\n",
        "ClientesVentas=pd.read_csv('Input2_clientes_venta.csv',sep=';')\n",
        "ClientesTest=pd.read_csv('Input3_clientes_test.csv',sep=';')\n",
        "Electrico = pd.read_csv(\n",
        "    \"Copia de DataSui_ele_com_096.csv\",      # relative python path to subdirectory\n",
        "    sep=',',           # Tab-separated value file.\n",
        "    na_values=''      # Take any '.' or '??' values as NA\n",
        ")"
      ],
      "execution_count": 189,
      "outputs": []
    },
    {
      "cell_type": "code",
      "metadata": {
        "id": "xv0wC5AKTSWk"
      },
      "source": [
        ""
      ],
      "execution_count": 189,
      "outputs": []
    },
    {
      "cell_type": "code",
      "metadata": {
        "id": "g0UtkZ5-X4mZ"
      },
      "source": [
        ""
      ],
      "execution_count": 189,
      "outputs": []
    },
    {
      "cell_type": "markdown",
      "metadata": {
        "id": "GfBN6eeE8vhX"
      },
      "source": [
        "# Verif. de datos"
      ]
    },
    {
      "cell_type": "code",
      "metadata": {
        "colab": {
          "base_uri": "https://localhost:8080/"
        },
        "id": "SxE3a0Z78vhX",
        "outputId": "b4eb24ee-0090-4e6b-f649-d928ea83b3ee"
      },
      "source": [
        "\n",
        "for i in ClientesEstructura.columns:\n",
        "    print(i,ClientesEstructura[i].unique())"
      ],
      "execution_count": 190,
      "outputs": [
        {
          "output_type": "stream",
          "text": [
            "Cliente [    1     2     3 ... 20919 20920 20921]\n",
            "Regional2 ['Regional 1']\n",
            "Gerencia2 ['Gerencia_1' 'Gerencia_2' 'Gerencia_3' 'Gerencia_4' 'Gerencia_5'\n",
            " 'Gerencia_6' 'Gerencia_7' 'Gerencia_8' 'Gerencia_9' 'Gerencia_10'\n",
            " 'Gerencia_11']\n",
            "SubCanal2 ['Subcanal_1' 'Subcanal_2' 'Subcanal_3' 'Subcanal_4' 'Subcanal_5'\n",
            " 'Subcanal_6' 'Subcanal_7' 'Subcanal_8' 'Subcanal_9' 'Subcanal_10'\n",
            " 'Subcanal_11' 'Subcanal_12' 'Subcanal_13' 'Subcanal_14' 'Subcanal_15'\n",
            " 'Subcanal_16' 'Subcanal_17' 'Subcanal_18' 'Subcanal_19' 'Subcanal_20'\n",
            " 'Subcanal_21' 'Subcanal_22' 'Subcanal_23' 'Subcanal_24' 'Subcanal_25'\n",
            " 'Subcanal_26' 'Subcanal_27' 'Subcanal_28' 'Subcanal_29' 'Subcanal_30'\n",
            " 'Subcanal_31' 'Subcanal_32']\n",
            "Categoria ['Categoria_1' 'Categoria_2' 'Categoria_3' 'Categoria_4' 'Categoria_5'\n",
            " 'Categoria_6']\n",
            "Nevera [0 1]\n"
          ],
          "name": "stdout"
        }
      ]
    },
    {
      "cell_type": "code",
      "metadata": {
        "colab": {
          "base_uri": "https://localhost:8080/"
        },
        "id": "0Sh_LZdE8vhY",
        "outputId": "df7c2b7c-8f1f-42de-82af-c0cc98a81900"
      },
      "source": [
        "for i in ClientesVentas.columns:\n",
        "    print(i,ClientesVentas[i].unique())\n",
        "    "
      ],
      "execution_count": 191,
      "outputs": [
        {
          "output_type": "stream",
          "text": [
            "Año [2019 2020]\n",
            "Mes [ 5  6  7  9  8 10 11 12  1  2  3  4]\n",
            "Cliente [   10    12    14 ... 20569 20577 20580]\n",
            "SegmentoPrecio2 ['SegmentoPrecio_1' 'SegmentoPrecio_2' 'SegmentoPrecio_3']\n",
            "Marca2 ['Marca_1' 'Marca_2' 'Marca_3' 'Marca_4' 'Marca_5' 'Marca_6' 'Marca_7'\n",
            " 'Marca_8' 'Marca_9' 'Marca_10' 'Marca_11' 'Marca_12' 'Marca_13'\n",
            " 'Marca_14' 'Marca_15' 'Marca_16' 'Marca_17' 'Marca_18' 'Marca_19'\n",
            " 'Marca_20' 'Marca_21' 'Marca_22' 'Marca_23' 'Marca_24' 'Marca_25'\n",
            " 'Marca_26' 'Marca_27' 'Marca_28' 'Marca_29' 'Marca_30' 'Marca_31'\n",
            " 'Marca_32' 'Marca_33' 'Marca_34' 'Marca_35' 'Marca_36' 'Marca_37'\n",
            " 'Marca_38' 'Marca_39']\n",
            "Cupo2 ['Cupo_1' 'Cupo_2' 'Cupo_3' 'Cupo_4' 'Cupo_5']\n",
            "CapacidadEnvase2 ['CapacidadEnvase_12' 'CapacidadEnvase_10' 'CapacidadEnvase_16'\n",
            " 'CapacidadEnvase_6' 'CapacidadEnvase_17' 'CapacidadEnvase_14'\n",
            " 'CapacidadEnvase_3' 'CapacidadEnvase_5' 'CapacidadEnvase_11'\n",
            " 'CapacidadEnvase_8' 'CapacidadEnvase_9' 'CapacidadEnvase_13'\n",
            " 'CapacidadEnvase_15' 'CapacidadEnvase_7' 'CapacidadEnvase_1'\n",
            " 'CapacidadEnvase_2' 'CapacidadEnvase_4']\n",
            "Volumen [0.11222857 0.02173441 0.04346881 ... 3.63833949 3.99043686 0.20539013]\n",
            "disc [  -30.59060292     0.           -31.0652606  ...  -842.1254417\n",
            "  -296.95765239 -3095.52600486]\n",
            "nr [900.3285667  149.18446334 359.62582818 ... 544.15031437 759.21899623\n",
            " 269.15019614]\n"
          ],
          "name": "stdout"
        }
      ]
    },
    {
      "cell_type": "code",
      "metadata": {
        "colab": {
          "base_uri": "https://localhost:8080/"
        },
        "id": "rOMu3LoN8vhY",
        "outputId": "9c22a5e0-8615-4f2f-ecd3-640929f724a6"
      },
      "source": [
        "for i in ClientesTest.columns:\n",
        "    print(i,ClientesTest[i].unique())"
      ],
      "execution_count": 192,
      "outputs": [
        {
          "output_type": "stream",
          "text": [
            "Cliente [   10    12    14 ... 20309 20360 20569]\n",
            "Marca1 [nan]\n",
            "Marca2 [nan]\n",
            "Marca3 [nan]\n",
            "Marca_Inno1 [nan]\n",
            "Marca_Inno2 [nan]\n"
          ],
          "name": "stdout"
        }
      ]
    },
    {
      "cell_type": "code",
      "metadata": {
        "id": "z3lUQSgA8vhY"
      },
      "source": [
        "import pandas as pd\n",
        "from sklearn.preprocessing import LabelBinarizer\n",
        "\n",
        "def Etiquetar(Data,Columna):\n",
        "  lb = LabelBinarizer()\n",
        "  df = Data\n",
        "  df = df.join(pd.DataFrame(lb.fit_transform(Data[Columna]),columns=lb.classes_, index=df.index))\n",
        "  df.drop([Columna], axis=1)\n",
        "  return df\n",
        "\n"
      ],
      "execution_count": 193,
      "outputs": []
    },
    {
      "cell_type": "code",
      "metadata": {
        "colab": {
          "base_uri": "https://localhost:8080/"
        },
        "id": "WRVzFd4VEK1G",
        "outputId": "94fe07dd-2c17-4ae9-aba2-4bfad88112fa"
      },
      "source": [
        "ClientesEstructura\n",
        "for i in ClientesEstructura.columns:\n",
        "    print(i,ClientesEstructura[i].unique())"
      ],
      "execution_count": 194,
      "outputs": [
        {
          "output_type": "stream",
          "text": [
            "Cliente [    1     2     3 ... 20919 20920 20921]\n",
            "Regional2 ['Regional 1']\n",
            "Gerencia2 ['Gerencia_1' 'Gerencia_2' 'Gerencia_3' 'Gerencia_4' 'Gerencia_5'\n",
            " 'Gerencia_6' 'Gerencia_7' 'Gerencia_8' 'Gerencia_9' 'Gerencia_10'\n",
            " 'Gerencia_11']\n",
            "SubCanal2 ['Subcanal_1' 'Subcanal_2' 'Subcanal_3' 'Subcanal_4' 'Subcanal_5'\n",
            " 'Subcanal_6' 'Subcanal_7' 'Subcanal_8' 'Subcanal_9' 'Subcanal_10'\n",
            " 'Subcanal_11' 'Subcanal_12' 'Subcanal_13' 'Subcanal_14' 'Subcanal_15'\n",
            " 'Subcanal_16' 'Subcanal_17' 'Subcanal_18' 'Subcanal_19' 'Subcanal_20'\n",
            " 'Subcanal_21' 'Subcanal_22' 'Subcanal_23' 'Subcanal_24' 'Subcanal_25'\n",
            " 'Subcanal_26' 'Subcanal_27' 'Subcanal_28' 'Subcanal_29' 'Subcanal_30'\n",
            " 'Subcanal_31' 'Subcanal_32']\n",
            "Categoria ['Categoria_1' 'Categoria_2' 'Categoria_3' 'Categoria_4' 'Categoria_5'\n",
            " 'Categoria_6']\n",
            "Nevera [0 1]\n"
          ],
          "name": "stdout"
        }
      ]
    },
    {
      "cell_type": "code",
      "metadata": {
        "id": "8qhuMu9n8vhY"
      },
      "source": [
        "ClientesEstructura=ClientesEstructura.loc[:,[\"Cliente\", \"Gerencia2\", \"SubCanal2\", \"Categoria\",\"Nevera\"]]\n",
        "ClientesEstructura=Etiquetar(ClientesEstructura,\"Gerencia2\")\n",
        "ClientesEstructura=Etiquetar(ClientesEstructura,\"SubCanal2\")\n",
        "ClientesEstructura=Etiquetar(ClientesEstructura,\"Categoria\")"
      ],
      "execution_count": 195,
      "outputs": []
    },
    {
      "cell_type": "code",
      "metadata": {
        "id": "hs3FtQTT8vhY",
        "colab": {
          "base_uri": "https://localhost:8080/",
          "height": 439
        },
        "outputId": "0591a5d6-15cc-4ede-9e06-20c8e18a87cc"
      },
      "source": [
        "ClientesEstructura"
      ],
      "execution_count": 196,
      "outputs": [
        {
          "output_type": "execute_result",
          "data": {
            "text/html": [
              "<div>\n",
              "<style scoped>\n",
              "    .dataframe tbody tr th:only-of-type {\n",
              "        vertical-align: middle;\n",
              "    }\n",
              "\n",
              "    .dataframe tbody tr th {\n",
              "        vertical-align: top;\n",
              "    }\n",
              "\n",
              "    .dataframe thead th {\n",
              "        text-align: right;\n",
              "    }\n",
              "</style>\n",
              "<table border=\"1\" class=\"dataframe\">\n",
              "  <thead>\n",
              "    <tr style=\"text-align: right;\">\n",
              "      <th></th>\n",
              "      <th>Cliente</th>\n",
              "      <th>Gerencia2</th>\n",
              "      <th>SubCanal2</th>\n",
              "      <th>Categoria</th>\n",
              "      <th>Nevera</th>\n",
              "      <th>Gerencia_1</th>\n",
              "      <th>Gerencia_10</th>\n",
              "      <th>Gerencia_11</th>\n",
              "      <th>Gerencia_2</th>\n",
              "      <th>Gerencia_3</th>\n",
              "      <th>Gerencia_4</th>\n",
              "      <th>Gerencia_5</th>\n",
              "      <th>Gerencia_6</th>\n",
              "      <th>Gerencia_7</th>\n",
              "      <th>Gerencia_8</th>\n",
              "      <th>Gerencia_9</th>\n",
              "      <th>Subcanal_1</th>\n",
              "      <th>Subcanal_10</th>\n",
              "      <th>Subcanal_11</th>\n",
              "      <th>Subcanal_12</th>\n",
              "      <th>Subcanal_13</th>\n",
              "      <th>Subcanal_14</th>\n",
              "      <th>Subcanal_15</th>\n",
              "      <th>Subcanal_16</th>\n",
              "      <th>Subcanal_17</th>\n",
              "      <th>Subcanal_18</th>\n",
              "      <th>Subcanal_19</th>\n",
              "      <th>Subcanal_2</th>\n",
              "      <th>Subcanal_20</th>\n",
              "      <th>Subcanal_21</th>\n",
              "      <th>Subcanal_22</th>\n",
              "      <th>Subcanal_23</th>\n",
              "      <th>Subcanal_24</th>\n",
              "      <th>Subcanal_25</th>\n",
              "      <th>Subcanal_26</th>\n",
              "      <th>Subcanal_27</th>\n",
              "      <th>Subcanal_28</th>\n",
              "      <th>Subcanal_29</th>\n",
              "      <th>Subcanal_3</th>\n",
              "      <th>Subcanal_30</th>\n",
              "      <th>Subcanal_31</th>\n",
              "      <th>Subcanal_32</th>\n",
              "      <th>Subcanal_4</th>\n",
              "      <th>Subcanal_5</th>\n",
              "      <th>Subcanal_6</th>\n",
              "      <th>Subcanal_7</th>\n",
              "      <th>Subcanal_8</th>\n",
              "      <th>Subcanal_9</th>\n",
              "      <th>Categoria_1</th>\n",
              "      <th>Categoria_2</th>\n",
              "      <th>Categoria_3</th>\n",
              "      <th>Categoria_4</th>\n",
              "      <th>Categoria_5</th>\n",
              "      <th>Categoria_6</th>\n",
              "    </tr>\n",
              "  </thead>\n",
              "  <tbody>\n",
              "    <tr>\n",
              "      <th>0</th>\n",
              "      <td>1</td>\n",
              "      <td>Gerencia_1</td>\n",
              "      <td>Subcanal_1</td>\n",
              "      <td>Categoria_1</td>\n",
              "      <td>0</td>\n",
              "      <td>1</td>\n",
              "      <td>0</td>\n",
              "      <td>0</td>\n",
              "      <td>0</td>\n",
              "      <td>0</td>\n",
              "      <td>0</td>\n",
              "      <td>0</td>\n",
              "      <td>0</td>\n",
              "      <td>0</td>\n",
              "      <td>0</td>\n",
              "      <td>0</td>\n",
              "      <td>1</td>\n",
              "      <td>0</td>\n",
              "      <td>0</td>\n",
              "      <td>0</td>\n",
              "      <td>0</td>\n",
              "      <td>0</td>\n",
              "      <td>0</td>\n",
              "      <td>0</td>\n",
              "      <td>0</td>\n",
              "      <td>0</td>\n",
              "      <td>0</td>\n",
              "      <td>0</td>\n",
              "      <td>0</td>\n",
              "      <td>0</td>\n",
              "      <td>0</td>\n",
              "      <td>0</td>\n",
              "      <td>0</td>\n",
              "      <td>0</td>\n",
              "      <td>0</td>\n",
              "      <td>0</td>\n",
              "      <td>0</td>\n",
              "      <td>0</td>\n",
              "      <td>0</td>\n",
              "      <td>0</td>\n",
              "      <td>0</td>\n",
              "      <td>0</td>\n",
              "      <td>0</td>\n",
              "      <td>0</td>\n",
              "      <td>0</td>\n",
              "      <td>0</td>\n",
              "      <td>0</td>\n",
              "      <td>0</td>\n",
              "      <td>1</td>\n",
              "      <td>0</td>\n",
              "      <td>0</td>\n",
              "      <td>0</td>\n",
              "      <td>0</td>\n",
              "      <td>0</td>\n",
              "    </tr>\n",
              "    <tr>\n",
              "      <th>1</th>\n",
              "      <td>2</td>\n",
              "      <td>Gerencia_1</td>\n",
              "      <td>Subcanal_1</td>\n",
              "      <td>Categoria_1</td>\n",
              "      <td>0</td>\n",
              "      <td>1</td>\n",
              "      <td>0</td>\n",
              "      <td>0</td>\n",
              "      <td>0</td>\n",
              "      <td>0</td>\n",
              "      <td>0</td>\n",
              "      <td>0</td>\n",
              "      <td>0</td>\n",
              "      <td>0</td>\n",
              "      <td>0</td>\n",
              "      <td>0</td>\n",
              "      <td>1</td>\n",
              "      <td>0</td>\n",
              "      <td>0</td>\n",
              "      <td>0</td>\n",
              "      <td>0</td>\n",
              "      <td>0</td>\n",
              "      <td>0</td>\n",
              "      <td>0</td>\n",
              "      <td>0</td>\n",
              "      <td>0</td>\n",
              "      <td>0</td>\n",
              "      <td>0</td>\n",
              "      <td>0</td>\n",
              "      <td>0</td>\n",
              "      <td>0</td>\n",
              "      <td>0</td>\n",
              "      <td>0</td>\n",
              "      <td>0</td>\n",
              "      <td>0</td>\n",
              "      <td>0</td>\n",
              "      <td>0</td>\n",
              "      <td>0</td>\n",
              "      <td>0</td>\n",
              "      <td>0</td>\n",
              "      <td>0</td>\n",
              "      <td>0</td>\n",
              "      <td>0</td>\n",
              "      <td>0</td>\n",
              "      <td>0</td>\n",
              "      <td>0</td>\n",
              "      <td>0</td>\n",
              "      <td>0</td>\n",
              "      <td>1</td>\n",
              "      <td>0</td>\n",
              "      <td>0</td>\n",
              "      <td>0</td>\n",
              "      <td>0</td>\n",
              "      <td>0</td>\n",
              "    </tr>\n",
              "    <tr>\n",
              "      <th>2</th>\n",
              "      <td>3</td>\n",
              "      <td>Gerencia_1</td>\n",
              "      <td>Subcanal_1</td>\n",
              "      <td>Categoria_1</td>\n",
              "      <td>0</td>\n",
              "      <td>1</td>\n",
              "      <td>0</td>\n",
              "      <td>0</td>\n",
              "      <td>0</td>\n",
              "      <td>0</td>\n",
              "      <td>0</td>\n",
              "      <td>0</td>\n",
              "      <td>0</td>\n",
              "      <td>0</td>\n",
              "      <td>0</td>\n",
              "      <td>0</td>\n",
              "      <td>1</td>\n",
              "      <td>0</td>\n",
              "      <td>0</td>\n",
              "      <td>0</td>\n",
              "      <td>0</td>\n",
              "      <td>0</td>\n",
              "      <td>0</td>\n",
              "      <td>0</td>\n",
              "      <td>0</td>\n",
              "      <td>0</td>\n",
              "      <td>0</td>\n",
              "      <td>0</td>\n",
              "      <td>0</td>\n",
              "      <td>0</td>\n",
              "      <td>0</td>\n",
              "      <td>0</td>\n",
              "      <td>0</td>\n",
              "      <td>0</td>\n",
              "      <td>0</td>\n",
              "      <td>0</td>\n",
              "      <td>0</td>\n",
              "      <td>0</td>\n",
              "      <td>0</td>\n",
              "      <td>0</td>\n",
              "      <td>0</td>\n",
              "      <td>0</td>\n",
              "      <td>0</td>\n",
              "      <td>0</td>\n",
              "      <td>0</td>\n",
              "      <td>0</td>\n",
              "      <td>0</td>\n",
              "      <td>0</td>\n",
              "      <td>1</td>\n",
              "      <td>0</td>\n",
              "      <td>0</td>\n",
              "      <td>0</td>\n",
              "      <td>0</td>\n",
              "      <td>0</td>\n",
              "    </tr>\n",
              "    <tr>\n",
              "      <th>3</th>\n",
              "      <td>4</td>\n",
              "      <td>Gerencia_1</td>\n",
              "      <td>Subcanal_1</td>\n",
              "      <td>Categoria_1</td>\n",
              "      <td>1</td>\n",
              "      <td>1</td>\n",
              "      <td>0</td>\n",
              "      <td>0</td>\n",
              "      <td>0</td>\n",
              "      <td>0</td>\n",
              "      <td>0</td>\n",
              "      <td>0</td>\n",
              "      <td>0</td>\n",
              "      <td>0</td>\n",
              "      <td>0</td>\n",
              "      <td>0</td>\n",
              "      <td>1</td>\n",
              "      <td>0</td>\n",
              "      <td>0</td>\n",
              "      <td>0</td>\n",
              "      <td>0</td>\n",
              "      <td>0</td>\n",
              "      <td>0</td>\n",
              "      <td>0</td>\n",
              "      <td>0</td>\n",
              "      <td>0</td>\n",
              "      <td>0</td>\n",
              "      <td>0</td>\n",
              "      <td>0</td>\n",
              "      <td>0</td>\n",
              "      <td>0</td>\n",
              "      <td>0</td>\n",
              "      <td>0</td>\n",
              "      <td>0</td>\n",
              "      <td>0</td>\n",
              "      <td>0</td>\n",
              "      <td>0</td>\n",
              "      <td>0</td>\n",
              "      <td>0</td>\n",
              "      <td>0</td>\n",
              "      <td>0</td>\n",
              "      <td>0</td>\n",
              "      <td>0</td>\n",
              "      <td>0</td>\n",
              "      <td>0</td>\n",
              "      <td>0</td>\n",
              "      <td>0</td>\n",
              "      <td>0</td>\n",
              "      <td>1</td>\n",
              "      <td>0</td>\n",
              "      <td>0</td>\n",
              "      <td>0</td>\n",
              "      <td>0</td>\n",
              "      <td>0</td>\n",
              "    </tr>\n",
              "    <tr>\n",
              "      <th>4</th>\n",
              "      <td>5</td>\n",
              "      <td>Gerencia_1</td>\n",
              "      <td>Subcanal_1</td>\n",
              "      <td>Categoria_2</td>\n",
              "      <td>1</td>\n",
              "      <td>1</td>\n",
              "      <td>0</td>\n",
              "      <td>0</td>\n",
              "      <td>0</td>\n",
              "      <td>0</td>\n",
              "      <td>0</td>\n",
              "      <td>0</td>\n",
              "      <td>0</td>\n",
              "      <td>0</td>\n",
              "      <td>0</td>\n",
              "      <td>0</td>\n",
              "      <td>1</td>\n",
              "      <td>0</td>\n",
              "      <td>0</td>\n",
              "      <td>0</td>\n",
              "      <td>0</td>\n",
              "      <td>0</td>\n",
              "      <td>0</td>\n",
              "      <td>0</td>\n",
              "      <td>0</td>\n",
              "      <td>0</td>\n",
              "      <td>0</td>\n",
              "      <td>0</td>\n",
              "      <td>0</td>\n",
              "      <td>0</td>\n",
              "      <td>0</td>\n",
              "      <td>0</td>\n",
              "      <td>0</td>\n",
              "      <td>0</td>\n",
              "      <td>0</td>\n",
              "      <td>0</td>\n",
              "      <td>0</td>\n",
              "      <td>0</td>\n",
              "      <td>0</td>\n",
              "      <td>0</td>\n",
              "      <td>0</td>\n",
              "      <td>0</td>\n",
              "      <td>0</td>\n",
              "      <td>0</td>\n",
              "      <td>0</td>\n",
              "      <td>0</td>\n",
              "      <td>0</td>\n",
              "      <td>0</td>\n",
              "      <td>0</td>\n",
              "      <td>1</td>\n",
              "      <td>0</td>\n",
              "      <td>0</td>\n",
              "      <td>0</td>\n",
              "      <td>0</td>\n",
              "    </tr>\n",
              "    <tr>\n",
              "      <th>...</th>\n",
              "      <td>...</td>\n",
              "      <td>...</td>\n",
              "      <td>...</td>\n",
              "      <td>...</td>\n",
              "      <td>...</td>\n",
              "      <td>...</td>\n",
              "      <td>...</td>\n",
              "      <td>...</td>\n",
              "      <td>...</td>\n",
              "      <td>...</td>\n",
              "      <td>...</td>\n",
              "      <td>...</td>\n",
              "      <td>...</td>\n",
              "      <td>...</td>\n",
              "      <td>...</td>\n",
              "      <td>...</td>\n",
              "      <td>...</td>\n",
              "      <td>...</td>\n",
              "      <td>...</td>\n",
              "      <td>...</td>\n",
              "      <td>...</td>\n",
              "      <td>...</td>\n",
              "      <td>...</td>\n",
              "      <td>...</td>\n",
              "      <td>...</td>\n",
              "      <td>...</td>\n",
              "      <td>...</td>\n",
              "      <td>...</td>\n",
              "      <td>...</td>\n",
              "      <td>...</td>\n",
              "      <td>...</td>\n",
              "      <td>...</td>\n",
              "      <td>...</td>\n",
              "      <td>...</td>\n",
              "      <td>...</td>\n",
              "      <td>...</td>\n",
              "      <td>...</td>\n",
              "      <td>...</td>\n",
              "      <td>...</td>\n",
              "      <td>...</td>\n",
              "      <td>...</td>\n",
              "      <td>...</td>\n",
              "      <td>...</td>\n",
              "      <td>...</td>\n",
              "      <td>...</td>\n",
              "      <td>...</td>\n",
              "      <td>...</td>\n",
              "      <td>...</td>\n",
              "      <td>...</td>\n",
              "      <td>...</td>\n",
              "      <td>...</td>\n",
              "      <td>...</td>\n",
              "      <td>...</td>\n",
              "      <td>...</td>\n",
              "    </tr>\n",
              "    <tr>\n",
              "      <th>20916</th>\n",
              "      <td>20917</td>\n",
              "      <td>Gerencia_1</td>\n",
              "      <td>Subcanal_31</td>\n",
              "      <td>Categoria_2</td>\n",
              "      <td>0</td>\n",
              "      <td>1</td>\n",
              "      <td>0</td>\n",
              "      <td>0</td>\n",
              "      <td>0</td>\n",
              "      <td>0</td>\n",
              "      <td>0</td>\n",
              "      <td>0</td>\n",
              "      <td>0</td>\n",
              "      <td>0</td>\n",
              "      <td>0</td>\n",
              "      <td>0</td>\n",
              "      <td>0</td>\n",
              "      <td>0</td>\n",
              "      <td>0</td>\n",
              "      <td>0</td>\n",
              "      <td>0</td>\n",
              "      <td>0</td>\n",
              "      <td>0</td>\n",
              "      <td>0</td>\n",
              "      <td>0</td>\n",
              "      <td>0</td>\n",
              "      <td>0</td>\n",
              "      <td>0</td>\n",
              "      <td>0</td>\n",
              "      <td>0</td>\n",
              "      <td>0</td>\n",
              "      <td>0</td>\n",
              "      <td>0</td>\n",
              "      <td>0</td>\n",
              "      <td>0</td>\n",
              "      <td>0</td>\n",
              "      <td>0</td>\n",
              "      <td>0</td>\n",
              "      <td>0</td>\n",
              "      <td>0</td>\n",
              "      <td>1</td>\n",
              "      <td>0</td>\n",
              "      <td>0</td>\n",
              "      <td>0</td>\n",
              "      <td>0</td>\n",
              "      <td>0</td>\n",
              "      <td>0</td>\n",
              "      <td>0</td>\n",
              "      <td>0</td>\n",
              "      <td>1</td>\n",
              "      <td>0</td>\n",
              "      <td>0</td>\n",
              "      <td>0</td>\n",
              "      <td>0</td>\n",
              "    </tr>\n",
              "    <tr>\n",
              "      <th>20917</th>\n",
              "      <td>20918</td>\n",
              "      <td>Gerencia_4</td>\n",
              "      <td>Subcanal_31</td>\n",
              "      <td>Categoria_1</td>\n",
              "      <td>0</td>\n",
              "      <td>0</td>\n",
              "      <td>0</td>\n",
              "      <td>0</td>\n",
              "      <td>0</td>\n",
              "      <td>0</td>\n",
              "      <td>1</td>\n",
              "      <td>0</td>\n",
              "      <td>0</td>\n",
              "      <td>0</td>\n",
              "      <td>0</td>\n",
              "      <td>0</td>\n",
              "      <td>0</td>\n",
              "      <td>0</td>\n",
              "      <td>0</td>\n",
              "      <td>0</td>\n",
              "      <td>0</td>\n",
              "      <td>0</td>\n",
              "      <td>0</td>\n",
              "      <td>0</td>\n",
              "      <td>0</td>\n",
              "      <td>0</td>\n",
              "      <td>0</td>\n",
              "      <td>0</td>\n",
              "      <td>0</td>\n",
              "      <td>0</td>\n",
              "      <td>0</td>\n",
              "      <td>0</td>\n",
              "      <td>0</td>\n",
              "      <td>0</td>\n",
              "      <td>0</td>\n",
              "      <td>0</td>\n",
              "      <td>0</td>\n",
              "      <td>0</td>\n",
              "      <td>0</td>\n",
              "      <td>0</td>\n",
              "      <td>1</td>\n",
              "      <td>0</td>\n",
              "      <td>0</td>\n",
              "      <td>0</td>\n",
              "      <td>0</td>\n",
              "      <td>0</td>\n",
              "      <td>0</td>\n",
              "      <td>0</td>\n",
              "      <td>1</td>\n",
              "      <td>0</td>\n",
              "      <td>0</td>\n",
              "      <td>0</td>\n",
              "      <td>0</td>\n",
              "      <td>0</td>\n",
              "    </tr>\n",
              "    <tr>\n",
              "      <th>20918</th>\n",
              "      <td>20919</td>\n",
              "      <td>Gerencia_9</td>\n",
              "      <td>Subcanal_31</td>\n",
              "      <td>Categoria_1</td>\n",
              "      <td>0</td>\n",
              "      <td>0</td>\n",
              "      <td>0</td>\n",
              "      <td>0</td>\n",
              "      <td>0</td>\n",
              "      <td>0</td>\n",
              "      <td>0</td>\n",
              "      <td>0</td>\n",
              "      <td>0</td>\n",
              "      <td>0</td>\n",
              "      <td>0</td>\n",
              "      <td>1</td>\n",
              "      <td>0</td>\n",
              "      <td>0</td>\n",
              "      <td>0</td>\n",
              "      <td>0</td>\n",
              "      <td>0</td>\n",
              "      <td>0</td>\n",
              "      <td>0</td>\n",
              "      <td>0</td>\n",
              "      <td>0</td>\n",
              "      <td>0</td>\n",
              "      <td>0</td>\n",
              "      <td>0</td>\n",
              "      <td>0</td>\n",
              "      <td>0</td>\n",
              "      <td>0</td>\n",
              "      <td>0</td>\n",
              "      <td>0</td>\n",
              "      <td>0</td>\n",
              "      <td>0</td>\n",
              "      <td>0</td>\n",
              "      <td>0</td>\n",
              "      <td>0</td>\n",
              "      <td>0</td>\n",
              "      <td>0</td>\n",
              "      <td>1</td>\n",
              "      <td>0</td>\n",
              "      <td>0</td>\n",
              "      <td>0</td>\n",
              "      <td>0</td>\n",
              "      <td>0</td>\n",
              "      <td>0</td>\n",
              "      <td>0</td>\n",
              "      <td>1</td>\n",
              "      <td>0</td>\n",
              "      <td>0</td>\n",
              "      <td>0</td>\n",
              "      <td>0</td>\n",
              "      <td>0</td>\n",
              "    </tr>\n",
              "    <tr>\n",
              "      <th>20919</th>\n",
              "      <td>20920</td>\n",
              "      <td>Gerencia_10</td>\n",
              "      <td>Subcanal_31</td>\n",
              "      <td>Categoria_1</td>\n",
              "      <td>0</td>\n",
              "      <td>0</td>\n",
              "      <td>1</td>\n",
              "      <td>0</td>\n",
              "      <td>0</td>\n",
              "      <td>0</td>\n",
              "      <td>0</td>\n",
              "      <td>0</td>\n",
              "      <td>0</td>\n",
              "      <td>0</td>\n",
              "      <td>0</td>\n",
              "      <td>0</td>\n",
              "      <td>0</td>\n",
              "      <td>0</td>\n",
              "      <td>0</td>\n",
              "      <td>0</td>\n",
              "      <td>0</td>\n",
              "      <td>0</td>\n",
              "      <td>0</td>\n",
              "      <td>0</td>\n",
              "      <td>0</td>\n",
              "      <td>0</td>\n",
              "      <td>0</td>\n",
              "      <td>0</td>\n",
              "      <td>0</td>\n",
              "      <td>0</td>\n",
              "      <td>0</td>\n",
              "      <td>0</td>\n",
              "      <td>0</td>\n",
              "      <td>0</td>\n",
              "      <td>0</td>\n",
              "      <td>0</td>\n",
              "      <td>0</td>\n",
              "      <td>0</td>\n",
              "      <td>0</td>\n",
              "      <td>0</td>\n",
              "      <td>1</td>\n",
              "      <td>0</td>\n",
              "      <td>0</td>\n",
              "      <td>0</td>\n",
              "      <td>0</td>\n",
              "      <td>0</td>\n",
              "      <td>0</td>\n",
              "      <td>0</td>\n",
              "      <td>1</td>\n",
              "      <td>0</td>\n",
              "      <td>0</td>\n",
              "      <td>0</td>\n",
              "      <td>0</td>\n",
              "      <td>0</td>\n",
              "    </tr>\n",
              "    <tr>\n",
              "      <th>20920</th>\n",
              "      <td>20921</td>\n",
              "      <td>Gerencia_9</td>\n",
              "      <td>Subcanal_31</td>\n",
              "      <td>Categoria_1</td>\n",
              "      <td>0</td>\n",
              "      <td>0</td>\n",
              "      <td>0</td>\n",
              "      <td>0</td>\n",
              "      <td>0</td>\n",
              "      <td>0</td>\n",
              "      <td>0</td>\n",
              "      <td>0</td>\n",
              "      <td>0</td>\n",
              "      <td>0</td>\n",
              "      <td>0</td>\n",
              "      <td>1</td>\n",
              "      <td>0</td>\n",
              "      <td>0</td>\n",
              "      <td>0</td>\n",
              "      <td>0</td>\n",
              "      <td>0</td>\n",
              "      <td>0</td>\n",
              "      <td>0</td>\n",
              "      <td>0</td>\n",
              "      <td>0</td>\n",
              "      <td>0</td>\n",
              "      <td>0</td>\n",
              "      <td>0</td>\n",
              "      <td>0</td>\n",
              "      <td>0</td>\n",
              "      <td>0</td>\n",
              "      <td>0</td>\n",
              "      <td>0</td>\n",
              "      <td>0</td>\n",
              "      <td>0</td>\n",
              "      <td>0</td>\n",
              "      <td>0</td>\n",
              "      <td>0</td>\n",
              "      <td>0</td>\n",
              "      <td>0</td>\n",
              "      <td>1</td>\n",
              "      <td>0</td>\n",
              "      <td>0</td>\n",
              "      <td>0</td>\n",
              "      <td>0</td>\n",
              "      <td>0</td>\n",
              "      <td>0</td>\n",
              "      <td>0</td>\n",
              "      <td>1</td>\n",
              "      <td>0</td>\n",
              "      <td>0</td>\n",
              "      <td>0</td>\n",
              "      <td>0</td>\n",
              "      <td>0</td>\n",
              "    </tr>\n",
              "  </tbody>\n",
              "</table>\n",
              "<p>20921 rows × 54 columns</p>\n",
              "</div>"
            ],
            "text/plain": [
              "       Cliente    Gerencia2    SubCanal2  ... Categoria_4  Categoria_5  Categoria_6\n",
              "0            1   Gerencia_1   Subcanal_1  ...           0            0            0\n",
              "1            2   Gerencia_1   Subcanal_1  ...           0            0            0\n",
              "2            3   Gerencia_1   Subcanal_1  ...           0            0            0\n",
              "3            4   Gerencia_1   Subcanal_1  ...           0            0            0\n",
              "4            5   Gerencia_1   Subcanal_1  ...           0            0            0\n",
              "...        ...          ...          ...  ...         ...          ...          ...\n",
              "20916    20917   Gerencia_1  Subcanal_31  ...           0            0            0\n",
              "20917    20918   Gerencia_4  Subcanal_31  ...           0            0            0\n",
              "20918    20919   Gerencia_9  Subcanal_31  ...           0            0            0\n",
              "20919    20920  Gerencia_10  Subcanal_31  ...           0            0            0\n",
              "20920    20921   Gerencia_9  Subcanal_31  ...           0            0            0\n",
              "\n",
              "[20921 rows x 54 columns]"
            ]
          },
          "metadata": {
            "tags": []
          },
          "execution_count": 196
        }
      ]
    },
    {
      "cell_type": "markdown",
      "metadata": {
        "id": "xuZUC50z8vhY"
      },
      "source": [
        "# Acondicionar ventas"
      ]
    },
    {
      "cell_type": "code",
      "metadata": {
        "id": "VWhfMBTY8vhY"
      },
      "source": [
        "ClientesVentas\n",
        "ClientesVentas[\"Tiempo\"]=(ClientesVentas[\"Año\"]-2019)*12+ClientesVentas[\"Mes\"]\n"
      ],
      "execution_count": 197,
      "outputs": []
    },
    {
      "cell_type": "code",
      "metadata": {
        "id": "a2xKKYd58vhZ"
      },
      "source": [
        "#Filtrar Base de datos\n",
        "def filtrar(df):\n",
        "  df[\"dummy\"]=np.abs(df[\"disc\"]/df[\"nr\"])\n",
        "  df[\"dummy2\"]=np.abs(df[\"nr\"]/df[\"Volumen\"])\n",
        "  df=df.loc[(df[\"nr\"]>5) ]\n",
        "  df=df.loc[df[\"dummy\"]< 10]\n",
        "  df=df.loc[df[\"Volumen\"]> 0.001]\n",
        "  df=df.loc[df[\"dummy2\"]< 25000]\n",
        "  return df\n",
        "ClientesVentas2=filtrar(ClientesVentas)\n"
      ],
      "execution_count": 198,
      "outputs": []
    },
    {
      "cell_type": "code",
      "metadata": {
        "colab": {
          "base_uri": "https://localhost:8080/"
        },
        "id": "l_QmgERm8vhZ",
        "outputId": "fd172574-81e4-4002-a1cb-300ee7e50ca4"
      },
      "source": [
        "ClientesVentas[\"Tiempo\"].unique()"
      ],
      "execution_count": 199,
      "outputs": [
        {
          "output_type": "execute_result",
          "data": {
            "text/plain": [
              "array([ 5,  6,  7,  9,  8, 10, 11, 12, 13, 14, 15, 17, 18, 19, 20, 21, 16])"
            ]
          },
          "metadata": {
            "tags": []
          },
          "execution_count": 199
        }
      ]
    },
    {
      "cell_type": "code",
      "metadata": {
        "colab": {
          "base_uri": "https://localhost:8080/"
        },
        "id": "hS2hHdvjp2Du",
        "outputId": "d8884ef7-9984-4679-dc63-761c5cb3c661"
      },
      "source": [
        "ClientesVentas.columns"
      ],
      "execution_count": 200,
      "outputs": [
        {
          "output_type": "execute_result",
          "data": {
            "text/plain": [
              "Index(['Año', 'Mes', 'Cliente', 'SegmentoPrecio2', 'Marca2', 'Cupo2',\n",
              "       'CapacidadEnvase2', 'Volumen', 'disc', 'nr', 'Tiempo', 'dummy',\n",
              "       'dummy2'],\n",
              "      dtype='object')"
            ]
          },
          "metadata": {
            "tags": []
          },
          "execution_count": 200
        }
      ]
    },
    {
      "cell_type": "code",
      "metadata": {
        "id": "5Pzep13y6d6u"
      },
      "source": [
        "for i in ['SegmentoPrecio2','Marca2','Cupo2','CapacidadEnvase2']:\n",
        "  ClientesVentas=Etiquetar(ClientesVentas,i)\n"
      ],
      "execution_count": 201,
      "outputs": []
    },
    {
      "cell_type": "code",
      "metadata": {
        "colab": {
          "base_uri": "https://localhost:8080/"
        },
        "id": "yok10nu-o_Io",
        "outputId": "caad38ec-ede9-4b75-b2e5-edc9bd365738"
      },
      "source": [
        "for i in ClientesVentas.columns:\n",
        "    print(i,ClientesVentas[i].unique())"
      ],
      "execution_count": 202,
      "outputs": [
        {
          "output_type": "stream",
          "text": [
            "Año [2019 2020]\n",
            "Mes [ 5  6  7  9  8 10 11 12  1  2  3  4]\n",
            "Cliente [   10    12    14 ... 20569 20577 20580]\n",
            "SegmentoPrecio2 ['SegmentoPrecio_1' 'SegmentoPrecio_2' 'SegmentoPrecio_3']\n",
            "Marca2 ['Marca_1' 'Marca_2' 'Marca_3' 'Marca_4' 'Marca_5' 'Marca_6' 'Marca_7'\n",
            " 'Marca_8' 'Marca_9' 'Marca_10' 'Marca_11' 'Marca_12' 'Marca_13'\n",
            " 'Marca_14' 'Marca_15' 'Marca_16' 'Marca_17' 'Marca_18' 'Marca_19'\n",
            " 'Marca_20' 'Marca_21' 'Marca_22' 'Marca_23' 'Marca_24' 'Marca_25'\n",
            " 'Marca_26' 'Marca_27' 'Marca_28' 'Marca_29' 'Marca_30' 'Marca_31'\n",
            " 'Marca_32' 'Marca_33' 'Marca_34' 'Marca_35' 'Marca_36' 'Marca_37'\n",
            " 'Marca_38' 'Marca_39']\n",
            "Cupo2 ['Cupo_1' 'Cupo_2' 'Cupo_3' 'Cupo_4' 'Cupo_5']\n",
            "CapacidadEnvase2 ['CapacidadEnvase_12' 'CapacidadEnvase_10' 'CapacidadEnvase_16'\n",
            " 'CapacidadEnvase_6' 'CapacidadEnvase_17' 'CapacidadEnvase_14'\n",
            " 'CapacidadEnvase_3' 'CapacidadEnvase_5' 'CapacidadEnvase_11'\n",
            " 'CapacidadEnvase_8' 'CapacidadEnvase_9' 'CapacidadEnvase_13'\n",
            " 'CapacidadEnvase_15' 'CapacidadEnvase_7' 'CapacidadEnvase_1'\n",
            " 'CapacidadEnvase_2' 'CapacidadEnvase_4']\n",
            "Volumen [0.11222857 0.02173441 0.04346881 ... 3.63833949 3.99043686 0.20539013]\n",
            "disc [  -30.59060292     0.           -31.0652606  ...  -842.1254417\n",
            "  -296.95765239 -3095.52600486]\n",
            "nr [900.3285667  149.18446334 359.62582818 ... 544.15031437 759.21899623\n",
            " 269.15019614]\n",
            "Tiempo [ 5  6  7  9  8 10 11 12 13 14 15 17 18 19 20 21 16]\n",
            "dummy [0.03397715 0.         0.23054271 ... 0.05839423 0.20639629 0.11151743]\n",
            "dummy2 [ 8022.27624807  6863.97715824  8273.19217729 ... 13909.08664669\n",
            " 12937.65408023 13759.55613797]\n",
            "SegmentoPrecio_1 [1 0]\n",
            "SegmentoPrecio_2 [0 1]\n",
            "SegmentoPrecio_3 [0 1]\n",
            "Marca_1 [1 0]\n",
            "Marca_10 [0 1]\n",
            "Marca_11 [0 1]\n",
            "Marca_12 [0 1]\n",
            "Marca_13 [0 1]\n",
            "Marca_14 [0 1]\n",
            "Marca_15 [0 1]\n",
            "Marca_16 [0 1]\n",
            "Marca_17 [0 1]\n",
            "Marca_18 [0 1]\n",
            "Marca_19 [0 1]\n",
            "Marca_2 [0 1]\n",
            "Marca_20 [0 1]\n",
            "Marca_21 [0 1]\n",
            "Marca_22 [0 1]\n",
            "Marca_23 [0 1]\n",
            "Marca_24 [0 1]\n",
            "Marca_25 [0 1]\n",
            "Marca_26 [0 1]\n",
            "Marca_27 [0 1]\n",
            "Marca_28 [0 1]\n",
            "Marca_29 [0 1]\n",
            "Marca_3 [0 1]\n",
            "Marca_30 [0 1]\n",
            "Marca_31 [0 1]\n",
            "Marca_32 [0 1]\n",
            "Marca_33 [0 1]\n",
            "Marca_34 [0 1]\n",
            "Marca_35 [0 1]\n",
            "Marca_36 [0 1]\n",
            "Marca_37 [0 1]\n",
            "Marca_38 [0 1]\n",
            "Marca_39 [0 1]\n",
            "Marca_4 [0 1]\n",
            "Marca_5 [0 1]\n",
            "Marca_6 [0 1]\n",
            "Marca_7 [0 1]\n",
            "Marca_8 [0 1]\n",
            "Marca_9 [0 1]\n",
            "Cupo_1 [1 0]\n",
            "Cupo_2 [0 1]\n",
            "Cupo_3 [0 1]\n",
            "Cupo_4 [0 1]\n",
            "Cupo_5 [0 1]\n",
            "CapacidadEnvase_1 [0 1]\n",
            "CapacidadEnvase_10 [0 1]\n",
            "CapacidadEnvase_11 [0 1]\n",
            "CapacidadEnvase_12 [1 0]\n",
            "CapacidadEnvase_13 [0 1]\n",
            "CapacidadEnvase_14 [0 1]\n",
            "CapacidadEnvase_15 [0 1]\n",
            "CapacidadEnvase_16 [0 1]\n",
            "CapacidadEnvase_17 [0 1]\n",
            "CapacidadEnvase_2 [0 1]\n",
            "CapacidadEnvase_3 [0 1]\n",
            "CapacidadEnvase_4 [0 1]\n",
            "CapacidadEnvase_5 [0 1]\n",
            "CapacidadEnvase_6 [0 1]\n",
            "CapacidadEnvase_7 [0 1]\n",
            "CapacidadEnvase_8 [0 1]\n",
            "CapacidadEnvase_9 [0 1]\n"
          ],
          "name": "stdout"
        }
      ]
    },
    {
      "cell_type": "code",
      "metadata": {
        "colab": {
          "base_uri": "https://localhost:8080/"
        },
        "id": "T1fJ8ubtrO5L",
        "outputId": "68802f18-0633-41d4-e45e-753878db43f0"
      },
      "source": [
        "ClientesVentas[[  'Cupo2' ]].value_counts()"
      ],
      "execution_count": 203,
      "outputs": [
        {
          "output_type": "execute_result",
          "data": {
            "text/plain": [
              "Cupo2 \n",
              "Cupo_2    786172\n",
              "Cupo_1    481920\n",
              "Cupo_3    135837\n",
              "Cupo_4      2098\n",
              "Cupo_5        89\n",
              "dtype: int64"
            ]
          },
          "metadata": {
            "tags": []
          },
          "execution_count": 203
        }
      ]
    },
    {
      "cell_type": "code",
      "metadata": {
        "id": "GJ6wSkTVu1gW"
      },
      "source": [
        ""
      ],
      "execution_count": 203,
      "outputs": []
    },
    {
      "cell_type": "markdown",
      "metadata": {
        "id": "WSd2T4u7iukG"
      },
      "source": [
        "# Unir archivos"
      ]
    },
    {
      "cell_type": "code",
      "metadata": {
        "id": "gTetcI2oiuFn"
      },
      "source": [
        "result = pd.merge(ClientesVentas, ClientesEstructura, on='Cliente')"
      ],
      "execution_count": 204,
      "outputs": []
    },
    {
      "cell_type": "code",
      "metadata": {
        "id": "o8_7TacZjHD_"
      },
      "source": [
        ""
      ],
      "execution_count": 204,
      "outputs": []
    },
    {
      "cell_type": "code",
      "metadata": {
        "id": "747s-h60kOKz"
      },
      "source": [
        ""
      ],
      "execution_count": 204,
      "outputs": []
    },
    {
      "cell_type": "code",
      "metadata": {
        "id": "XAMTrmgjwpb9"
      },
      "source": [
        ""
      ],
      "execution_count": 204,
      "outputs": []
    },
    {
      "cell_type": "code",
      "metadata": {
        "id": "mVNXp5sZkclz"
      },
      "source": [
        "\n"
      ],
      "execution_count": 205,
      "outputs": []
    },
    {
      "cell_type": "code",
      "metadata": {
        "id": "2xfqg1PKzpW7"
      },
      "source": [
        "\n"
      ],
      "execution_count": 205,
      "outputs": []
    },
    {
      "cell_type": "code",
      "metadata": {
        "id": "qbD9b7luYg9R"
      },
      "source": [
        "\n"
      ],
      "execution_count": 205,
      "outputs": []
    },
    {
      "cell_type": "code",
      "metadata": {
        "id": "ovtOv-EWBC5l"
      },
      "source": [
        ""
      ],
      "execution_count": 205,
      "outputs": []
    },
    {
      "cell_type": "code",
      "metadata": {
        "id": "S5M0fO3kBZDM"
      },
      "source": [
        "\n"
      ],
      "execution_count": 205,
      "outputs": []
    },
    {
      "cell_type": "code",
      "metadata": {
        "colab": {
          "base_uri": "https://localhost:8080/"
        },
        "id": "JjyeYBbTGlPf",
        "outputId": "7796d638-c66a-4ad9-eea6-3e8ccb502982"
      },
      "source": [
        "def GeneradorMarca(Marca):\n",
        "  Dat=[]\n",
        "  for i in Xa:\n",
        "    if i in Marca:\n",
        "      Dat.append(1)\n",
        "    else:\n",
        "      Dat.append(0)\n",
        "  return Dat\n",
        "def GeneradorCliente(Cliente):\n",
        "  Dat=ClientesEstructura[Xb][ClientesEstructura[\"Cliente\"]==Cliente].values\n",
        "  return Dat.tolist()[0]\n",
        "def GeneradorClienteMarca(Marca,Cliente):\n",
        "  M=GeneradorMarca(Marca)\n",
        "  C=GeneradorCliente(Cliente)\n",
        "  A= np.array([M+C])\n",
        "  return A\n",
        "DiccinarioMarca={\"Marca1\":(\"Marca_20\" , \"Cupo_3\", \"CapacidadEnvase_9\"),\n",
        "                \"Marca2\":(\"Marca_16\",\"Cupo_2\" ,\"CapacidadEnvase_10\"),\n",
        "                \"Marca3\" :(\"Marca_9\",\"Cupo_3\",\"CapacidadEnvase_12\"),\n",
        "                \"Marca_Inno1\": (\"Marca_38\",\"Cupo_2\" ,\"CapacidadEnvase_10\"),\n",
        "                \"Marca_Inno2\":(\"Marca_39\",\"Cupo_2\",\"CapacidadEnvase_10\")}\n",
        "#Marca1= GeneradorMarca((\"Marca_20\" , \"Cupo_3\", \"CapacidadEnvase_9\"))\n",
        "#Marca2= GeneradorMarca((\"Marca_16\",\"Cupo_2\" ,\"CapacidadEnvase_10\"))\n",
        "#Marca3= GeneradorMarca((\"Marca_9\",\"Cupo_3\",\"CapacidadEnvase_12\"))\n",
        "#Marca_Inno1= GeneradorMarca((\"Marca_38\",\"Cupo_2\" ,\"CapacidadEnvase_10\"))\n",
        "#Marca_Inno2= GeneradorMarca((\"Marca_39\",\"Cupo_2\",\"CapacidadEnvase_10\"))\n",
        "\n",
        "DiccinarioMarca"
      ],
      "execution_count": 206,
      "outputs": [
        {
          "output_type": "execute_result",
          "data": {
            "text/plain": [
              "{'Marca1': ('Marca_20', 'Cupo_3', 'CapacidadEnvase_9'),\n",
              " 'Marca2': ('Marca_16', 'Cupo_2', 'CapacidadEnvase_10'),\n",
              " 'Marca3': ('Marca_9', 'Cupo_3', 'CapacidadEnvase_12'),\n",
              " 'Marca_Inno1': ('Marca_38', 'Cupo_2', 'CapacidadEnvase_10'),\n",
              " 'Marca_Inno2': ('Marca_39', 'Cupo_2', 'CapacidadEnvase_10')}"
            ]
          },
          "metadata": {
            "tags": []
          },
          "execution_count": 206
        }
      ]
    },
    {
      "cell_type": "code",
      "metadata": {
        "colab": {
          "base_uri": "https://localhost:8080/"
        },
        "id": "4rrVUKPZyUiS",
        "outputId": "d6e1d17b-2c0c-4674-db92-fa50bf033ca5"
      },
      "source": [
        "GeneradorClienteMarca((\"Marca_20\" , \"Cupo_3\", \"CapacidadEnvase_9\"),1000)"
      ],
      "execution_count": 207,
      "outputs": [
        {
          "output_type": "execute_result",
          "data": {
            "text/plain": [
              "array([[0, 0, 0, 0, 0, 0, 0, 0, 0, 0, 0, 0, 0, 0, 0, 1, 0, 0, 0, 0, 0, 0,\n",
              "        0, 0, 0, 0, 0, 0, 0, 0, 0, 0, 0, 0, 0, 0, 0, 0, 0, 0, 0, 0, 0, 0,\n",
              "        1, 0, 0, 0, 0, 0, 0, 0, 0, 0, 0, 0, 0, 0, 0, 0, 0, 0, 0, 1, 0, 0,\n",
              "        0, 0, 0, 1, 0, 0, 0, 0, 0, 0, 0, 0, 0, 0, 0, 0, 0, 0, 0, 0, 0, 0,\n",
              "        0, 0, 0, 0, 0, 0, 0, 0, 0, 0, 0, 0, 0, 0, 0, 0, 1, 0, 0, 0, 0, 1,\n",
              "        0, 0, 0, 0]])"
            ]
          },
          "metadata": {
            "tags": []
          },
          "execution_count": 207
        }
      ]
    },
    {
      "cell_type": "code",
      "metadata": {
        "id": "bu2czp9o6zQk"
      },
      "source": [
        "resultb=result[~((result[\"Año\"]==2020) & (result[\"Mes\"]==9))]\n",
        "result=result[(result[\"Año\"]==2020) & (result[\"Mes\"]==9)]\n"
      ],
      "execution_count": 208,
      "outputs": []
    },
    {
      "cell_type": "code",
      "metadata": {
        "id": "Md8CanIQi5gs"
      },
      "source": [
        ""
      ],
      "execution_count": 208,
      "outputs": []
    },
    {
      "cell_type": "code",
      "metadata": {
        "id": "Ibrsm-1kKDHS"
      },
      "source": [
        "def metricav2(Marca,Cliente):\n",
        "#Cliente=10\n",
        "#Marca=('Marca_20', 'Cupo_3', 'CapacidadEnvase_9')\n",
        "  a=5*len(result[(result[\"Cliente\"]==Cliente) & (result[\"Marca2\"]==Marca[0]) & (result[\"Cupo2\"]==Marca[1]) & (result[\"CapacidadEnvase2\"]==Marca[2])])\n",
        "  b=2*len(result[(result[\"Cliente\"]==Cliente) & (result[\"Marca2\"]==Marca[0])])\n",
        "  c=len(result[(result[\"Cliente\"]==Cliente)  & (result[\"Cupo2\"]==Marca[1]) ])\n",
        "  d=0.3*len(result[(result[\"Cliente\"]==Cliente)  & (result[\"CapacidadEnvase2\"]==Marca[2]) ])\n",
        "  sal=a+b+c+d\n",
        "  return sal\n",
        "def metricav3(Marca,Cliente):\n",
        "#Cliente=10\n",
        "#Marca=('Marca_20', 'Cupo_3', 'CapacidadEnvase_9')\n",
        "  a=5*result[(result[\"Cliente\"]==Cliente) & (result[\"Marca2\"]==Marca[0]) & (result[\"Cupo2\"]==Marca[1]) & (result[\"CapacidadEnvase2\"]==Marca[2])][\"Volumen\"].mean()\n",
        "  b=2*result[(result[\"Cliente\"]==Cliente) & (result[\"Marca2\"]==Marca[0])][\"Volumen\"].mean()\n",
        "  c=result[(result[\"Cliente\"]==Cliente)  & (result[\"Cupo2\"]==Marca[1]) ][\"Volumen\"].mean()\n",
        "  d=0.3*result[(result[\"Cliente\"]==Cliente)  & (result[\"CapacidadEnvase2\"]==Marca[2]) ][\"Volumen\"].mean()\n",
        "  sal=a+b+c+d\n",
        "  #print(a,b,c,d)\n",
        "  return sal\n"
      ],
      "execution_count": 209,
      "outputs": []
    },
    {
      "cell_type": "code",
      "metadata": {
        "colab": {
          "base_uri": "https://localhost:8080/",
          "height": 408
        },
        "id": "3jkCHCtLQmue",
        "outputId": "d2881ed8-dfaf-4ef3-d3b2-e8313df9ae53"
      },
      "source": [
        "import csv\n",
        "rtttt=0\n",
        "a=list(ClientesTest.columns)\n",
        "b=list(ClientesTest.columns)\n",
        "Tabla=[b]\n",
        "a.remove('Cliente')\n",
        "for i in ClientesTest['Cliente'].values:\n",
        "  Columna=[]\n",
        "  for j in a:\n",
        "    if len(Columna)==0:\n",
        "      Columna.append(i)\n",
        "    MI=metricav3(DiccinarioMarca[j],i)\n",
        "    rtttt+=1\n",
        "    if rtttt%1000==0:\n",
        "      print(rtttt/46510)\n",
        "      #round(model.predict(MI).tolist()[0][0], 5)\n",
        "    #Columna.append(round(model.predict(MI).tolist()[0][0], 5))\n",
        "    #print(MI)\n",
        "    Columna.append(round(MI,5))\n",
        "  Tabla.append(Columna)\n",
        "myFile = open('SalidaVol.csv', 'w')\n",
        "with myFile:\n",
        "    writer = csv.writer(myFile)\n",
        "    writer.writerows(Tabla)"
      ],
      "execution_count": 210,
      "outputs": [
        {
          "output_type": "stream",
          "text": [
            "0.021500752526338422\n"
          ],
          "name": "stdout"
        },
        {
          "output_type": "error",
          "ename": "KeyboardInterrupt",
          "evalue": "ignored",
          "traceback": [
            "\u001b[0;31m---------------------------------------------------------------------------\u001b[0m",
            "\u001b[0;31mKeyboardInterrupt\u001b[0m                         Traceback (most recent call last)",
            "\u001b[0;32m<ipython-input-210-66da2db038f9>\u001b[0m in \u001b[0;36m<module>\u001b[0;34m()\u001b[0m\n\u001b[1;32m     10\u001b[0m     \u001b[0;32mif\u001b[0m \u001b[0mlen\u001b[0m\u001b[0;34m(\u001b[0m\u001b[0mColumna\u001b[0m\u001b[0;34m)\u001b[0m\u001b[0;34m==\u001b[0m\u001b[0;36m0\u001b[0m\u001b[0;34m:\u001b[0m\u001b[0;34m\u001b[0m\u001b[0;34m\u001b[0m\u001b[0m\n\u001b[1;32m     11\u001b[0m       \u001b[0mColumna\u001b[0m\u001b[0;34m.\u001b[0m\u001b[0mappend\u001b[0m\u001b[0;34m(\u001b[0m\u001b[0mi\u001b[0m\u001b[0;34m)\u001b[0m\u001b[0;34m\u001b[0m\u001b[0;34m\u001b[0m\u001b[0m\n\u001b[0;32m---> 12\u001b[0;31m     \u001b[0mMI\u001b[0m\u001b[0;34m=\u001b[0m\u001b[0mmetricav3\u001b[0m\u001b[0;34m(\u001b[0m\u001b[0mDiccinarioMarca\u001b[0m\u001b[0;34m[\u001b[0m\u001b[0mj\u001b[0m\u001b[0;34m]\u001b[0m\u001b[0;34m,\u001b[0m\u001b[0mi\u001b[0m\u001b[0;34m)\u001b[0m\u001b[0;34m\u001b[0m\u001b[0;34m\u001b[0m\u001b[0m\n\u001b[0m\u001b[1;32m     13\u001b[0m     \u001b[0mrtttt\u001b[0m\u001b[0;34m+=\u001b[0m\u001b[0;36m1\u001b[0m\u001b[0;34m\u001b[0m\u001b[0;34m\u001b[0m\u001b[0m\n\u001b[1;32m     14\u001b[0m     \u001b[0;32mif\u001b[0m \u001b[0mrtttt\u001b[0m\u001b[0;34m%\u001b[0m\u001b[0;36m1000\u001b[0m\u001b[0;34m==\u001b[0m\u001b[0;36m0\u001b[0m\u001b[0;34m:\u001b[0m\u001b[0;34m\u001b[0m\u001b[0;34m\u001b[0m\u001b[0m\n",
            "\u001b[0;32m<ipython-input-209-d7c4330a93ee>\u001b[0m in \u001b[0;36mmetricav3\u001b[0;34m(Marca, Cliente)\u001b[0m\n\u001b[1;32m     13\u001b[0m   \u001b[0ma\u001b[0m\u001b[0;34m=\u001b[0m\u001b[0;36m5\u001b[0m\u001b[0;34m*\u001b[0m\u001b[0mresult\u001b[0m\u001b[0;34m[\u001b[0m\u001b[0;34m(\u001b[0m\u001b[0mresult\u001b[0m\u001b[0;34m[\u001b[0m\u001b[0;34m\"Cliente\"\u001b[0m\u001b[0;34m]\u001b[0m\u001b[0;34m==\u001b[0m\u001b[0mCliente\u001b[0m\u001b[0;34m)\u001b[0m \u001b[0;34m&\u001b[0m \u001b[0;34m(\u001b[0m\u001b[0mresult\u001b[0m\u001b[0;34m[\u001b[0m\u001b[0;34m\"Marca2\"\u001b[0m\u001b[0;34m]\u001b[0m\u001b[0;34m==\u001b[0m\u001b[0mMarca\u001b[0m\u001b[0;34m[\u001b[0m\u001b[0;36m0\u001b[0m\u001b[0;34m]\u001b[0m\u001b[0;34m)\u001b[0m \u001b[0;34m&\u001b[0m \u001b[0;34m(\u001b[0m\u001b[0mresult\u001b[0m\u001b[0;34m[\u001b[0m\u001b[0;34m\"Cupo2\"\u001b[0m\u001b[0;34m]\u001b[0m\u001b[0;34m==\u001b[0m\u001b[0mMarca\u001b[0m\u001b[0;34m[\u001b[0m\u001b[0;36m1\u001b[0m\u001b[0;34m]\u001b[0m\u001b[0;34m)\u001b[0m \u001b[0;34m&\u001b[0m \u001b[0;34m(\u001b[0m\u001b[0mresult\u001b[0m\u001b[0;34m[\u001b[0m\u001b[0;34m\"CapacidadEnvase2\"\u001b[0m\u001b[0;34m]\u001b[0m\u001b[0;34m==\u001b[0m\u001b[0mMarca\u001b[0m\u001b[0;34m[\u001b[0m\u001b[0;36m2\u001b[0m\u001b[0;34m]\u001b[0m\u001b[0;34m)\u001b[0m\u001b[0;34m]\u001b[0m\u001b[0;34m[\u001b[0m\u001b[0;34m\"Volumen\"\u001b[0m\u001b[0;34m]\u001b[0m\u001b[0;34m.\u001b[0m\u001b[0mmean\u001b[0m\u001b[0;34m(\u001b[0m\u001b[0;34m)\u001b[0m\u001b[0;34m\u001b[0m\u001b[0;34m\u001b[0m\u001b[0m\n\u001b[1;32m     14\u001b[0m   \u001b[0mb\u001b[0m\u001b[0;34m=\u001b[0m\u001b[0;36m2\u001b[0m\u001b[0;34m*\u001b[0m\u001b[0mresult\u001b[0m\u001b[0;34m[\u001b[0m\u001b[0;34m(\u001b[0m\u001b[0mresult\u001b[0m\u001b[0;34m[\u001b[0m\u001b[0;34m\"Cliente\"\u001b[0m\u001b[0;34m]\u001b[0m\u001b[0;34m==\u001b[0m\u001b[0mCliente\u001b[0m\u001b[0;34m)\u001b[0m \u001b[0;34m&\u001b[0m \u001b[0;34m(\u001b[0m\u001b[0mresult\u001b[0m\u001b[0;34m[\u001b[0m\u001b[0;34m\"Marca2\"\u001b[0m\u001b[0;34m]\u001b[0m\u001b[0;34m==\u001b[0m\u001b[0mMarca\u001b[0m\u001b[0;34m[\u001b[0m\u001b[0;36m0\u001b[0m\u001b[0;34m]\u001b[0m\u001b[0;34m)\u001b[0m\u001b[0;34m]\u001b[0m\u001b[0;34m[\u001b[0m\u001b[0;34m\"Volumen\"\u001b[0m\u001b[0;34m]\u001b[0m\u001b[0;34m.\u001b[0m\u001b[0mmean\u001b[0m\u001b[0;34m(\u001b[0m\u001b[0;34m)\u001b[0m\u001b[0;34m\u001b[0m\u001b[0;34m\u001b[0m\u001b[0m\n\u001b[0;32m---> 15\u001b[0;31m   \u001b[0mc\u001b[0m\u001b[0;34m=\u001b[0m\u001b[0mresult\u001b[0m\u001b[0;34m[\u001b[0m\u001b[0;34m(\u001b[0m\u001b[0mresult\u001b[0m\u001b[0;34m[\u001b[0m\u001b[0;34m\"Cliente\"\u001b[0m\u001b[0;34m]\u001b[0m\u001b[0;34m==\u001b[0m\u001b[0mCliente\u001b[0m\u001b[0;34m)\u001b[0m  \u001b[0;34m&\u001b[0m \u001b[0;34m(\u001b[0m\u001b[0mresult\u001b[0m\u001b[0;34m[\u001b[0m\u001b[0;34m\"Cupo2\"\u001b[0m\u001b[0;34m]\u001b[0m\u001b[0;34m==\u001b[0m\u001b[0mMarca\u001b[0m\u001b[0;34m[\u001b[0m\u001b[0;36m1\u001b[0m\u001b[0;34m]\u001b[0m\u001b[0;34m)\u001b[0m \u001b[0;34m]\u001b[0m\u001b[0;34m[\u001b[0m\u001b[0;34m\"Volumen\"\u001b[0m\u001b[0;34m]\u001b[0m\u001b[0;34m.\u001b[0m\u001b[0mmean\u001b[0m\u001b[0;34m(\u001b[0m\u001b[0;34m)\u001b[0m\u001b[0;34m\u001b[0m\u001b[0;34m\u001b[0m\u001b[0m\n\u001b[0m\u001b[1;32m     16\u001b[0m   \u001b[0md\u001b[0m\u001b[0;34m=\u001b[0m\u001b[0;36m0.3\u001b[0m\u001b[0;34m*\u001b[0m\u001b[0mresult\u001b[0m\u001b[0;34m[\u001b[0m\u001b[0;34m(\u001b[0m\u001b[0mresult\u001b[0m\u001b[0;34m[\u001b[0m\u001b[0;34m\"Cliente\"\u001b[0m\u001b[0;34m]\u001b[0m\u001b[0;34m==\u001b[0m\u001b[0mCliente\u001b[0m\u001b[0;34m)\u001b[0m  \u001b[0;34m&\u001b[0m \u001b[0;34m(\u001b[0m\u001b[0mresult\u001b[0m\u001b[0;34m[\u001b[0m\u001b[0;34m\"CapacidadEnvase2\"\u001b[0m\u001b[0;34m]\u001b[0m\u001b[0;34m==\u001b[0m\u001b[0mMarca\u001b[0m\u001b[0;34m[\u001b[0m\u001b[0;36m2\u001b[0m\u001b[0;34m]\u001b[0m\u001b[0;34m)\u001b[0m \u001b[0;34m]\u001b[0m\u001b[0;34m[\u001b[0m\u001b[0;34m\"Volumen\"\u001b[0m\u001b[0;34m]\u001b[0m\u001b[0;34m.\u001b[0m\u001b[0mmean\u001b[0m\u001b[0;34m(\u001b[0m\u001b[0;34m)\u001b[0m\u001b[0;34m\u001b[0m\u001b[0;34m\u001b[0m\u001b[0m\n\u001b[1;32m     17\u001b[0m   \u001b[0msal\u001b[0m\u001b[0;34m=\u001b[0m\u001b[0ma\u001b[0m\u001b[0;34m+\u001b[0m\u001b[0mb\u001b[0m\u001b[0;34m+\u001b[0m\u001b[0mc\u001b[0m\u001b[0;34m+\u001b[0m\u001b[0md\u001b[0m\u001b[0;34m\u001b[0m\u001b[0;34m\u001b[0m\u001b[0m\n",
            "\u001b[0;32m/usr/local/lib/python3.6/dist-packages/pandas/core/ops/common.py\u001b[0m in \u001b[0;36mnew_method\u001b[0;34m(self, other)\u001b[0m\n\u001b[1;32m     63\u001b[0m         \u001b[0mother\u001b[0m \u001b[0;34m=\u001b[0m \u001b[0mitem_from_zerodim\u001b[0m\u001b[0;34m(\u001b[0m\u001b[0mother\u001b[0m\u001b[0;34m)\u001b[0m\u001b[0;34m\u001b[0m\u001b[0;34m\u001b[0m\u001b[0m\n\u001b[1;32m     64\u001b[0m \u001b[0;34m\u001b[0m\u001b[0m\n\u001b[0;32m---> 65\u001b[0;31m         \u001b[0;32mreturn\u001b[0m \u001b[0mmethod\u001b[0m\u001b[0;34m(\u001b[0m\u001b[0mself\u001b[0m\u001b[0;34m,\u001b[0m \u001b[0mother\u001b[0m\u001b[0;34m)\u001b[0m\u001b[0;34m\u001b[0m\u001b[0;34m\u001b[0m\u001b[0m\n\u001b[0m\u001b[1;32m     66\u001b[0m \u001b[0;34m\u001b[0m\u001b[0m\n\u001b[1;32m     67\u001b[0m     \u001b[0;32mreturn\u001b[0m \u001b[0mnew_method\u001b[0m\u001b[0;34m\u001b[0m\u001b[0;34m\u001b[0m\u001b[0m\n",
            "\u001b[0;32m/usr/local/lib/python3.6/dist-packages/pandas/core/ops/__init__.py\u001b[0m in \u001b[0;36mwrapper\u001b[0;34m(self, other)\u001b[0m\n\u001b[1;32m    368\u001b[0m         \u001b[0mrvalues\u001b[0m \u001b[0;34m=\u001b[0m \u001b[0mextract_array\u001b[0m\u001b[0;34m(\u001b[0m\u001b[0mother\u001b[0m\u001b[0;34m,\u001b[0m \u001b[0mextract_numpy\u001b[0m\u001b[0;34m=\u001b[0m\u001b[0;32mTrue\u001b[0m\u001b[0;34m)\u001b[0m\u001b[0;34m\u001b[0m\u001b[0;34m\u001b[0m\u001b[0m\n\u001b[1;32m    369\u001b[0m \u001b[0;34m\u001b[0m\u001b[0m\n\u001b[0;32m--> 370\u001b[0;31m         \u001b[0mres_values\u001b[0m \u001b[0;34m=\u001b[0m \u001b[0mcomparison_op\u001b[0m\u001b[0;34m(\u001b[0m\u001b[0mlvalues\u001b[0m\u001b[0;34m,\u001b[0m \u001b[0mrvalues\u001b[0m\u001b[0;34m,\u001b[0m \u001b[0mop\u001b[0m\u001b[0;34m)\u001b[0m\u001b[0;34m\u001b[0m\u001b[0;34m\u001b[0m\u001b[0m\n\u001b[0m\u001b[1;32m    371\u001b[0m \u001b[0;34m\u001b[0m\u001b[0m\n\u001b[1;32m    372\u001b[0m         \u001b[0;32mreturn\u001b[0m \u001b[0mself\u001b[0m\u001b[0;34m.\u001b[0m\u001b[0m_construct_result\u001b[0m\u001b[0;34m(\u001b[0m\u001b[0mres_values\u001b[0m\u001b[0;34m,\u001b[0m \u001b[0mname\u001b[0m\u001b[0;34m=\u001b[0m\u001b[0mres_name\u001b[0m\u001b[0;34m)\u001b[0m\u001b[0;34m\u001b[0m\u001b[0;34m\u001b[0m\u001b[0m\n",
            "\u001b[0;32m/usr/local/lib/python3.6/dist-packages/pandas/core/ops/array_ops.py\u001b[0m in \u001b[0;36mcomparison_op\u001b[0;34m(left, right, op)\u001b[0m\n\u001b[1;32m    242\u001b[0m \u001b[0;34m\u001b[0m\u001b[0m\n\u001b[1;32m    243\u001b[0m     \u001b[0;32melif\u001b[0m \u001b[0mis_object_dtype\u001b[0m\u001b[0;34m(\u001b[0m\u001b[0mlvalues\u001b[0m\u001b[0;34m.\u001b[0m\u001b[0mdtype\u001b[0m\u001b[0;34m)\u001b[0m\u001b[0;34m:\u001b[0m\u001b[0;34m\u001b[0m\u001b[0;34m\u001b[0m\u001b[0m\n\u001b[0;32m--> 244\u001b[0;31m         \u001b[0mres_values\u001b[0m \u001b[0;34m=\u001b[0m \u001b[0mcomp_method_OBJECT_ARRAY\u001b[0m\u001b[0;34m(\u001b[0m\u001b[0mop\u001b[0m\u001b[0;34m,\u001b[0m \u001b[0mlvalues\u001b[0m\u001b[0;34m,\u001b[0m \u001b[0mrvalues\u001b[0m\u001b[0;34m)\u001b[0m\u001b[0;34m\u001b[0m\u001b[0;34m\u001b[0m\u001b[0m\n\u001b[0m\u001b[1;32m    245\u001b[0m \u001b[0;34m\u001b[0m\u001b[0m\n\u001b[1;32m    246\u001b[0m     \u001b[0;32melse\u001b[0m\u001b[0;34m:\u001b[0m\u001b[0;34m\u001b[0m\u001b[0;34m\u001b[0m\u001b[0m\n",
            "\u001b[0;32m/usr/local/lib/python3.6/dist-packages/pandas/core/ops/array_ops.py\u001b[0m in \u001b[0;36mcomp_method_OBJECT_ARRAY\u001b[0;34m(op, x, y)\u001b[0m\n\u001b[1;32m     54\u001b[0m         \u001b[0mresult\u001b[0m \u001b[0;34m=\u001b[0m \u001b[0mlibops\u001b[0m\u001b[0;34m.\u001b[0m\u001b[0mvec_compare\u001b[0m\u001b[0;34m(\u001b[0m\u001b[0mx\u001b[0m\u001b[0;34m.\u001b[0m\u001b[0mravel\u001b[0m\u001b[0;34m(\u001b[0m\u001b[0;34m)\u001b[0m\u001b[0;34m,\u001b[0m \u001b[0my\u001b[0m\u001b[0;34m.\u001b[0m\u001b[0mravel\u001b[0m\u001b[0;34m(\u001b[0m\u001b[0;34m)\u001b[0m\u001b[0;34m,\u001b[0m \u001b[0mop\u001b[0m\u001b[0;34m)\u001b[0m\u001b[0;34m\u001b[0m\u001b[0;34m\u001b[0m\u001b[0m\n\u001b[1;32m     55\u001b[0m     \u001b[0;32melse\u001b[0m\u001b[0;34m:\u001b[0m\u001b[0;34m\u001b[0m\u001b[0;34m\u001b[0m\u001b[0m\n\u001b[0;32m---> 56\u001b[0;31m         \u001b[0mresult\u001b[0m \u001b[0;34m=\u001b[0m \u001b[0mlibops\u001b[0m\u001b[0;34m.\u001b[0m\u001b[0mscalar_compare\u001b[0m\u001b[0;34m(\u001b[0m\u001b[0mx\u001b[0m\u001b[0;34m.\u001b[0m\u001b[0mravel\u001b[0m\u001b[0;34m(\u001b[0m\u001b[0;34m)\u001b[0m\u001b[0;34m,\u001b[0m \u001b[0my\u001b[0m\u001b[0;34m,\u001b[0m \u001b[0mop\u001b[0m\u001b[0;34m)\u001b[0m\u001b[0;34m\u001b[0m\u001b[0;34m\u001b[0m\u001b[0m\n\u001b[0m\u001b[1;32m     57\u001b[0m     \u001b[0;32mreturn\u001b[0m \u001b[0mresult\u001b[0m\u001b[0;34m.\u001b[0m\u001b[0mreshape\u001b[0m\u001b[0;34m(\u001b[0m\u001b[0mx\u001b[0m\u001b[0;34m.\u001b[0m\u001b[0mshape\u001b[0m\u001b[0;34m)\u001b[0m\u001b[0;34m\u001b[0m\u001b[0;34m\u001b[0m\u001b[0m\n\u001b[1;32m     58\u001b[0m \u001b[0;34m\u001b[0m\u001b[0m\n",
            "\u001b[0;31mKeyboardInterrupt\u001b[0m: "
          ]
        }
      ]
    },
    {
      "cell_type": "code",
      "metadata": {
        "id": "i4mmw3Jbx2hP"
      },
      "source": [
        ""
      ],
      "execution_count": null,
      "outputs": []
    },
    {
      "cell_type": "code",
      "metadata": {
        "id": "OgoP1TGBy3gB"
      },
      "source": [
        "import math\n",
        "for i in range(len(Tabla)):\n",
        "  for j in range(1,len(Tabla[1])):\n",
        "    try:\n",
        "      if math.isnan(Tabla[i][j]):\n",
        "        Tabla[i][j]=0\n",
        "    except:\n",
        "      print(Tabla[i][j])"
      ],
      "execution_count": null,
      "outputs": []
    },
    {
      "cell_type": "code",
      "metadata": {
        "id": "IP2SiiiqfHKg"
      },
      "source": [
        "myFile = open('SalidaVol2.csv', 'w')\n",
        "with myFile:\n",
        "    writer = csv.writer(myFile)\n",
        "    writer.writerows(Tabla)"
      ],
      "execution_count": null,
      "outputs": []
    },
    {
      "cell_type": "code",
      "metadata": {
        "id": "qvybyiI1uLxC"
      },
      "source": [
        "Tabla2=[]\n",
        "with open('Salida.csv', newline='') as File:  \n",
        "    reader = csv.reader(File)\n",
        "    for row in reader:\n",
        "        Tabla2.append(row)\n",
        "\n",
        "Tabla=[]\n",
        "with open('SalidaVol.csv', newline='') as File:  \n",
        "    reader = csv.reader(File)\n",
        "    for row in reader:\n",
        "        Tabla.append(row)\n",
        "\n",
        "import math\n",
        "for i in range(len(Tabla)):\n",
        "  for j in range(1,len(Tabla[1])):\n",
        "    try:\n",
        "      if math.isnan(float(Tabla[i][j])):\n",
        "        Tabla[i][j]=0\n",
        "    except:\n",
        "      print(Tabla[i][j])\n",
        "for i in range(len(Tabla2)):\n",
        "  for j in range(1,len(Tabla2[1])):\n",
        "    try:\n",
        "      if math.isnan(float(Tabla2[i][j])):\n",
        "        Tabla2[i][j]=0\n",
        "    except:\n",
        "      print(Tabla2[i][j])"
      ],
      "execution_count": null,
      "outputs": []
    },
    {
      "cell_type": "code",
      "metadata": {
        "id": "cbYo1Ntg5Y68"
      },
      "source": [
        "for ii in range(1):\n",
        "  for jj in range(1):\n",
        "  \n",
        "    print(len(Tabla),len(Tabla[1]))\n",
        "    TablaF=[Tabla[0]]\n",
        "\n",
        "    for i in range(1,len(Tabla)):\n",
        "      Columna=[]\n",
        "      for j in range(1,len(Tabla[1])):\n",
        "        if len(Columna)==0:\n",
        "          Columna.append(Tabla[i][0])\n",
        "\n",
        "        Columna.append(float(Tabla2[i][j])*1+float(Tabla[i][j])*50000)\n",
        "        rtttt+=1\n",
        "        if rtttt%1000==0:\n",
        "          print(rtttt/46510)\n",
        "      TablaF.append(Columna)\n",
        "    myFile = open(str(ii)+\"_\"+str(jj)+\"_\"+'SalidaFus.csv', 'w')\n",
        "    with myFile:\n",
        "        writer = csv.writer(myFile)\n",
        "        writer.writerows(TablaF)\n",
        "\n"
      ],
      "execution_count": null,
      "outputs": []
    }
  ]
}